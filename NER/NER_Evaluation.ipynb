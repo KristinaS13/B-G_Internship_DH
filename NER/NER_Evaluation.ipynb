{
 "cells": [
  {
   "cell_type": "code",
   "execution_count": 1,
   "metadata": {},
   "outputs": [
    {
     "name": "stderr",
     "output_type": "stream",
     "text": [
      "C:\\Users\\Kristina\\anaconda4\\lib\\site-packages\\sklearn\\metrics\\_classification.py:1221: UndefinedMetricWarning: Precision and F-score are ill-defined and being set to 0.0 in labels with no predicted samples. Use `zero_division` parameter to control this behavior.\n",
      "  _warn_prf(average, modifier, msg_start, len(result))\n"
     ]
    }
   ],
   "source": [
    "# This code was taken and adapted from \"Interpreting Information in Text by Humans and Machines\" course at VU (part of \n",
    "# Digital Humanities and Social Analytics minor, L_PABAALG005). All rights belong to the respective owner of the code, not\n",
    "# identified in the course description/description of the code on Canvas.\n",
    "\n",
    "import csv\n",
    "import sklearn\n",
    "from sklearn.model_selection import cross_validate\n",
    "from sklearn.metrics import accuracy_score, classification_report, confusion_matrix\n",
    "\n",
    "inputfile=\"NER.csv\"\n",
    "outputfile = \"NER_report.txt\"\n",
    "f_out=open(outputfile,\"w+\")\n",
    "\n",
    "y_gold=[] # gold annotations (manual)\n",
    "y_pred=[] # system predictions\n",
    "\n",
    "with open(inputfile, newline='') as csvfile:\n",
    "    reader = csv.reader(csvfile, delimiter=',', quotechar='|')\n",
    "    next(reader)  # skip header\n",
    "    for row in reader:\n",
    "        y_gold.append(row[1])\n",
    "        y_pred.append(row[2])\n",
    "    # print numbers gold and sys\n",
    "    f_out.write(\"gold\\t:\"+str([[x, y_gold.count(x)] for x in set(y_gold)]))\n",
    "    f_out.write(\"\\npred\\t:\"+str([[x, y_pred.count(x)] for x in set(y_pred)]))\n",
    "\n",
    "f_out.write(\"\\n\\ninput:\"+ inputfile)\n",
    "f_out.write(\"\\n\\naccuracy_score:\"+ str(accuracy_score(y_gold, y_pred)))\n",
    "f_out.write(\"\\n\\nclassification report:\\n\"+ classification_report(y_gold, y_pred))\n",
    "f_out.write(\"\\n\\nconfusion matrix:\\n\\n\"+str(confusion_matrix(y_gold, y_pred)))\n",
    "f_out.write(\"\\nrow is gold  /\\tcolumn is predicted\")\n",
    "\n",
    "f_out.close()"
   ]
  },
  {
   "cell_type": "code",
   "execution_count": null,
   "metadata": {},
   "outputs": [],
   "source": []
  }
 ],
 "metadata": {
  "kernelspec": {
   "display_name": "Python 3",
   "language": "python",
   "name": "python3"
  },
  "language_info": {
   "codemirror_mode": {
    "name": "ipython",
    "version": 3
   },
   "file_extension": ".py",
   "mimetype": "text/x-python",
   "name": "python",
   "nbconvert_exporter": "python",
   "pygments_lexer": "ipython3",
   "version": "3.8.3"
  }
 },
 "nbformat": 4,
 "nbformat_minor": 4
}
